{
 "cells": [
  {
   "cell_type": "markdown",
   "metadata": {},
   "source": [
    "acum output ul y este discred\n",
    "\n",
    "gen mail spam/not spam"
   ]
  },
  {
   "cell_type": "markdown",
   "metadata": {},
   "source": [
    "mai intai o luam cu $y\\in\\{0,1\\}$"
   ]
  },
  {
   "cell_type": "markdown",
   "metadata": {},
   "source": [
    "regresie liniara nu prea merge aici..."
   ]
  },
  {
   "cell_type": "markdown",
   "metadata": {},
   "source": [
    "ii dam cu logistic regression"
   ]
  },
  {
   "cell_type": "code",
   "execution_count": 1,
   "metadata": {},
   "outputs": [],
   "source": [
    "import numpy as np\n",
    "import matplotlib.pyplot as plt"
   ]
  },
  {
   "cell_type": "code",
   "execution_count": 2,
   "metadata": {
    "scrolled": true
   },
   "outputs": [
    {
     "data": {
      "text/plain": [
       "array([[0.00609071],\n",
       "       [0.00629291],\n",
       "       [0.02941305],\n",
       "       [0.03647434],\n",
       "       [0.04007713],\n",
       "       [0.04552102],\n",
       "       [0.07558775],\n",
       "       [0.08680217],\n",
       "       [0.08844722],\n",
       "       [0.09605583],\n",
       "       [0.10145767],\n",
       "       [0.1178725 ],\n",
       "       [0.1260093 ],\n",
       "       [0.1386704 ],\n",
       "       [0.14361594],\n",
       "       [0.15120242],\n",
       "       [0.15155387],\n",
       "       [0.17412224],\n",
       "       [0.20273253],\n",
       "       [0.20301962],\n",
       "       [0.20949599],\n",
       "       [0.2132511 ],\n",
       "       [0.22626746],\n",
       "       [0.24083691],\n",
       "       [0.24433986],\n",
       "       [0.25061721],\n",
       "       [0.27699558],\n",
       "       [0.28104149],\n",
       "       [0.31179177],\n",
       "       [0.31642997],\n",
       "       [0.32433157],\n",
       "       [0.33531421],\n",
       "       [0.3354861 ],\n",
       "       [0.33830431],\n",
       "       [0.35524062],\n",
       "       [0.36870511],\n",
       "       [0.37856341],\n",
       "       [0.38202547],\n",
       "       [0.42857582],\n",
       "       [0.43700659],\n",
       "       [0.45157886],\n",
       "       [0.46738206],\n",
       "       [0.47166463],\n",
       "       [0.47490654],\n",
       "       [0.50378268],\n",
       "       [0.51040622],\n",
       "       [0.51363356],\n",
       "       [0.52644224],\n",
       "       [0.54459179],\n",
       "       [0.55019914],\n",
       "       [0.56620601],\n",
       "       [0.56767782],\n",
       "       [0.56912075],\n",
       "       [0.57059608],\n",
       "       [0.57435454],\n",
       "       [0.57561967],\n",
       "       [0.58846471],\n",
       "       [0.62642384],\n",
       "       [0.63049911],\n",
       "       [0.63335757],\n",
       "       [0.63554292],\n",
       "       [0.64066065],\n",
       "       [0.67134404],\n",
       "       [0.69853644],\n",
       "       [0.69886869],\n",
       "       [0.70674726],\n",
       "       [0.71025606],\n",
       "       [0.72684415],\n",
       "       [0.74647113],\n",
       "       [0.76199201],\n",
       "       [0.76971749],\n",
       "       [0.78147244],\n",
       "       [0.78383102],\n",
       "       [0.78510218],\n",
       "       [0.78661016],\n",
       "       [0.79113373],\n",
       "       [0.79113459],\n",
       "       [0.79930991],\n",
       "       [0.83131518],\n",
       "       [0.83174517],\n",
       "       [0.84035848],\n",
       "       [0.84197587],\n",
       "       [0.84808436],\n",
       "       [0.85066753],\n",
       "       [0.85083309],\n",
       "       [0.86302944],\n",
       "       [0.87098908],\n",
       "       [0.88275491],\n",
       "       [0.88319421],\n",
       "       [0.88868215],\n",
       "       [0.89911431],\n",
       "       [0.89980467],\n",
       "       [0.90675647],\n",
       "       [0.93893454],\n",
       "       [0.94020413],\n",
       "       [0.95653462],\n",
       "       [0.97099578],\n",
       "       [0.98078041],\n",
       "       [0.98319158],\n",
       "       [0.99137558]])"
      ]
     },
     "execution_count": 2,
     "metadata": {},
     "output_type": "execute_result"
    }
   ],
   "source": [
    "m=1\n",
    "X=np.random.random(m*100).reshape(-1,m)\n",
    "for i in range(X.shape[1]):\n",
    "    X[:,i].sort()\n",
    "X"
   ]
  },
  {
   "cell_type": "code",
   "execution_count": 3,
   "metadata": {
    "scrolled": true
   },
   "outputs": [
    {
     "data": {
      "text/plain": [
       "array([[ 0.03349262],\n",
       "       [ 0.03460409],\n",
       "       [ 0.1610671 ],\n",
       "       [ 0.19926605],\n",
       "       [ 0.21864361],\n",
       "       [ 0.24775817],\n",
       "       [ 0.40386025],\n",
       "       [ 0.45948204],\n",
       "       [ 0.46749925],\n",
       "       [ 0.50407194],\n",
       "       [ 0.52950521],\n",
       "       [ 0.60383121],\n",
       "       [ 0.63888739],\n",
       "       [ 0.69086672],\n",
       "       [ 0.71027419],\n",
       "       [ 0.7390192 ],\n",
       "       [ 0.74032003],\n",
       "       [ 0.81785437],\n",
       "       [ 0.89792352],\n",
       "       [ 0.89861738],\n",
       "       [ 0.91367177],\n",
       "       [ 0.92187082],\n",
       "       [ 0.94722671],\n",
       "       [ 0.96984719],\n",
       "       [ 0.97436235],\n",
       "       [ 0.98154783],\n",
       "       [ 0.99888059],\n",
       "       [ 0.99968581],\n",
       "       [ 0.98964152],\n",
       "       [ 0.98565768],\n",
       "       [ 0.97739536],\n",
       "       [ 0.96284985],\n",
       "       [ 0.96259412],\n",
       "       [ 0.95827894],\n",
       "       [ 0.92753758],\n",
       "       [ 0.89734422],\n",
       "       [ 0.87210796],\n",
       "       [ 0.86263324],\n",
       "       [ 0.70641878],\n",
       "       [ 0.67285137],\n",
       "       [ 0.61146357],\n",
       "       [ 0.5404664 ],\n",
       "       [ 0.52050065],\n",
       "       [ 0.50519395],\n",
       "       [ 0.3623499 ],\n",
       "       [ 0.32816322],\n",
       "       [ 0.31134502],\n",
       "       [ 0.24368184],\n",
       "       [ 0.14581608],\n",
       "       [ 0.11524075],\n",
       "       [ 0.02745616],\n",
       "       [ 0.01936346],\n",
       "       [ 0.0114283 ],\n",
       "       [ 0.00331423],\n",
       "       [-0.01735645],\n",
       "       [-0.02431314],\n",
       "       [-0.09482061],\n",
       "       [-0.29908963],\n",
       "       [-0.32040067],\n",
       "       [-0.33525323],\n",
       "       [-0.34655255],\n",
       "       [-0.37281503],\n",
       "       [-0.52336871],\n",
       "       [-0.64449127],\n",
       "       [-0.64588744],\n",
       "       [-0.67835197],\n",
       "       [-0.69240403],\n",
       "       [-0.75525964],\n",
       "       [-0.82147827],\n",
       "       [-0.86710631],\n",
       "       [-0.88748262],\n",
       "       [-0.91540212],\n",
       "       [-0.92054679],\n",
       "       [-0.92325534],\n",
       "       [-0.92640995],\n",
       "       [-0.93548986],\n",
       "       [-0.93549154],\n",
       "       [-0.95042873],\n",
       "       [-0.99019429],\n",
       "       [-0.99052189],\n",
       "       [-0.99591513],\n",
       "       [-0.99667895],\n",
       "       [-0.99885182],\n",
       "       [-0.99943162],\n",
       "       [-0.9994619 ],\n",
       "       [-0.99941274],\n",
       "       [-0.99695557],\n",
       "       [-0.98982666],\n",
       "       [-0.98948   ],\n",
       "       [-0.9846633 ],\n",
       "       [-0.97303814],\n",
       "       [-0.97215539],\n",
       "       [-0.9624872 ],\n",
       "       [-0.89968411],\n",
       "       [-0.89661394],\n",
       "       [-0.85328078],\n",
       "       [-0.8091526 ],\n",
       "       [-0.77637454],\n",
       "       [-0.76794822],\n",
       "       [-0.7383494 ]])"
      ]
     },
     "execution_count": 3,
     "metadata": {},
     "output_type": "execute_result"
    }
   ],
   "source": [
    "y=np.sin(5.5*X)\n",
    "y"
   ]
  },
  {
   "cell_type": "code",
   "execution_count": 4,
   "metadata": {
    "scrolled": true
   },
   "outputs": [
    {
     "data": {
      "text/plain": [
       "array([[1.],\n",
       "       [1.],\n",
       "       [1.],\n",
       "       [1.],\n",
       "       [1.],\n",
       "       [1.],\n",
       "       [1.],\n",
       "       [1.],\n",
       "       [1.],\n",
       "       [1.],\n",
       "       [1.],\n",
       "       [1.],\n",
       "       [1.],\n",
       "       [1.],\n",
       "       [1.],\n",
       "       [1.],\n",
       "       [1.],\n",
       "       [1.],\n",
       "       [1.],\n",
       "       [1.],\n",
       "       [1.],\n",
       "       [1.],\n",
       "       [1.],\n",
       "       [1.],\n",
       "       [1.],\n",
       "       [1.],\n",
       "       [1.],\n",
       "       [1.],\n",
       "       [1.],\n",
       "       [1.],\n",
       "       [1.],\n",
       "       [1.],\n",
       "       [1.],\n",
       "       [1.],\n",
       "       [1.],\n",
       "       [1.],\n",
       "       [1.],\n",
       "       [1.],\n",
       "       [1.],\n",
       "       [1.],\n",
       "       [1.],\n",
       "       [1.],\n",
       "       [1.],\n",
       "       [1.],\n",
       "       [1.],\n",
       "       [1.],\n",
       "       [1.],\n",
       "       [1.],\n",
       "       [1.],\n",
       "       [1.],\n",
       "       [1.],\n",
       "       [1.],\n",
       "       [1.],\n",
       "       [1.],\n",
       "       [0.],\n",
       "       [0.],\n",
       "       [0.],\n",
       "       [0.],\n",
       "       [0.],\n",
       "       [0.],\n",
       "       [0.],\n",
       "       [0.],\n",
       "       [0.],\n",
       "       [0.],\n",
       "       [0.],\n",
       "       [0.],\n",
       "       [0.],\n",
       "       [0.],\n",
       "       [0.],\n",
       "       [0.],\n",
       "       [0.],\n",
       "       [0.],\n",
       "       [0.],\n",
       "       [0.],\n",
       "       [0.],\n",
       "       [0.],\n",
       "       [0.],\n",
       "       [0.],\n",
       "       [0.],\n",
       "       [0.],\n",
       "       [0.],\n",
       "       [0.],\n",
       "       [0.],\n",
       "       [0.],\n",
       "       [0.],\n",
       "       [0.],\n",
       "       [0.],\n",
       "       [0.],\n",
       "       [0.],\n",
       "       [0.],\n",
       "       [0.],\n",
       "       [0.],\n",
       "       [0.],\n",
       "       [0.],\n",
       "       [0.],\n",
       "       [0.],\n",
       "       [0.],\n",
       "       [0.],\n",
       "       [0.],\n",
       "       [0.]])"
      ]
     },
     "execution_count": 4,
     "metadata": {},
     "output_type": "execute_result"
    }
   ],
   "source": [
    "y[y<0]=0\n",
    "y[y>0]=1\n",
    "y"
   ]
  },
  {
   "cell_type": "code",
   "execution_count": 5,
   "metadata": {},
   "outputs": [
    {
     "data": {
      "text/plain": [
       "[<matplotlib.lines.Line2D at 0x14181050>]"
      ]
     },
     "execution_count": 5,
     "metadata": {},
     "output_type": "execute_result"
    },
    {
     "data": {
      "image/png": "[encoded data removed]",
      "text/plain": [
       "<Figure size 432x288 with 1 Axes>"
      ]
     },
     "metadata": {
      "needs_background": "light"
     },
     "output_type": "display_data"
    }
   ],
   "source": [
    "plt.plot(X,y,\"o\")"
   ]
  },
  {
   "cell_type": "code",
   "execution_count": 6,
   "metadata": {},
   "outputs": [],
   "source": [
    "def h(teta,X):\n",
    "    return teta.T.dot(X)"
   ]
  },
  {
   "cell_type": "code",
   "execution_count": 7,
   "metadata": {
    "scrolled": true
   },
   "outputs": [
    {
     "data": {
      "text/plain": [
       "array([[1.        , 0.00609071],\n",
       "       [1.        , 0.00629291],\n",
       "       [1.        , 0.02941305],\n",
       "       [1.        , 0.03647434],\n",
       "       [1.        , 0.04007713],\n",
       "       [1.        , 0.04552102],\n",
       "       [1.        , 0.07558775],\n",
       "       [1.        , 0.08680217],\n",
       "       [1.        , 0.08844722],\n",
       "       [1.        , 0.09605583],\n",
       "       [1.        , 0.10145767],\n",
       "       [1.        , 0.1178725 ],\n",
       "       [1.        , 0.1260093 ],\n",
       "       [1.        , 0.1386704 ],\n",
       "       [1.        , 0.14361594],\n",
       "       [1.        , 0.15120242],\n",
       "       [1.        , 0.15155387],\n",
       "       [1.        , 0.17412224],\n",
       "       [1.        , 0.20273253],\n",
       "       [1.        , 0.20301962],\n",
       "       [1.        , 0.20949599],\n",
       "       [1.        , 0.2132511 ],\n",
       "       [1.        , 0.22626746],\n",
       "       [1.        , 0.24083691],\n",
       "       [1.        , 0.24433986],\n",
       "       [1.        , 0.25061721],\n",
       "       [1.        , 0.27699558],\n",
       "       [1.        , 0.28104149],\n",
       "       [1.        , 0.31179177],\n",
       "       [1.        , 0.31642997],\n",
       "       [1.        , 0.32433157],\n",
       "       [1.        , 0.33531421],\n",
       "       [1.        , 0.3354861 ],\n",
       "       [1.        , 0.33830431],\n",
       "       [1.        , 0.35524062],\n",
       "       [1.        , 0.36870511],\n",
       "       [1.        , 0.37856341],\n",
       "       [1.        , 0.38202547],\n",
       "       [1.        , 0.42857582],\n",
       "       [1.        , 0.43700659],\n",
       "       [1.        , 0.45157886],\n",
       "       [1.        , 0.46738206],\n",
       "       [1.        , 0.47166463],\n",
       "       [1.        , 0.47490654],\n",
       "       [1.        , 0.50378268],\n",
       "       [1.        , 0.51040622],\n",
       "       [1.        , 0.51363356],\n",
       "       [1.        , 0.52644224],\n",
       "       [1.        , 0.54459179],\n",
       "       [1.        , 0.55019914],\n",
       "       [1.        , 0.56620601],\n",
       "       [1.        , 0.56767782],\n",
       "       [1.        , 0.56912075],\n",
       "       [1.        , 0.57059608],\n",
       "       [1.        , 0.57435454],\n",
       "       [1.        , 0.57561967],\n",
       "       [1.        , 0.58846471],\n",
       "       [1.        , 0.62642384],\n",
       "       [1.        , 0.63049911],\n",
       "       [1.        , 0.63335757],\n",
       "       [1.        , 0.63554292],\n",
       "       [1.        , 0.64066065],\n",
       "       [1.        , 0.67134404],\n",
       "       [1.        , 0.69853644],\n",
       "       [1.        , 0.69886869],\n",
       "       [1.        , 0.70674726],\n",
       "       [1.        , 0.71025606],\n",
       "       [1.        , 0.72684415],\n",
       "       [1.        , 0.74647113],\n",
       "       [1.        , 0.76199201],\n",
       "       [1.        , 0.76971749],\n",
       "       [1.        , 0.78147244],\n",
       "       [1.        , 0.78383102],\n",
       "       [1.        , 0.78510218],\n",
       "       [1.        , 0.78661016],\n",
       "       [1.        , 0.79113373],\n",
       "       [1.        , 0.79113459],\n",
       "       [1.        , 0.79930991],\n",
       "       [1.        , 0.83131518],\n",
       "       [1.        , 0.83174517],\n",
       "       [1.        , 0.84035848],\n",
       "       [1.        , 0.84197587],\n",
       "       [1.        , 0.84808436],\n",
       "       [1.        , 0.85066753],\n",
       "       [1.        , 0.85083309],\n",
       "       [1.        , 0.86302944],\n",
       "       [1.        , 0.87098908],\n",
       "       [1.        , 0.88275491],\n",
       "       [1.        , 0.88319421],\n",
       "       [1.        , 0.88868215],\n",
       "       [1.        , 0.89911431],\n",
       "       [1.        , 0.89980467],\n",
       "       [1.        , 0.90675647],\n",
       "       [1.        , 0.93893454],\n",
       "       [1.        , 0.94020413],\n",
       "       [1.        , 0.95653462],\n",
       "       [1.        , 0.97099578],\n",
       "       [1.        , 0.98078041],\n",
       "       [1.        , 0.98319158],\n",
       "       [1.        , 0.99137558]])"
      ]
     },
     "execution_count": 7,
     "metadata": {},
     "output_type": "execute_result"
    }
   ],
   "source": [
    "a=np.ones_like(X[:,0]).reshape((X.shape[0],1))\n",
    "X=np.hstack((a,X))  # asa facem x_0=1\n",
    "X"
   ]
  },
  {
   "cell_type": "code",
   "execution_count": 8,
   "metadata": {},
   "outputs": [
    {
     "data": {
      "text/plain": [
       "array([[ 1.29853358],\n",
       "       [-1.45231029]])"
      ]
     },
     "execution_count": 8,
     "metadata": {},
     "output_type": "execute_result"
    }
   ],
   "source": [
    "a=(X.T).dot(y)\n",
    "b=np.linalg.inv((X.T).dot(X))\n",
    "teta=b.dot(a)\n",
    "teta  # aici puteam sa fac cu grad decent dar fiind date mici merge si asa lol"
   ]
  },
  {
   "cell_type": "code",
   "execution_count": 9,
   "metadata": {},
   "outputs": [],
   "source": [
    "ynn=np.array([])\n",
    "for i in range(X.shape[0]):\n",
    "    ynn=np.append(ynn,h(teta,X[i,:]))  #calculam h(teta,X) pentru plot"
   ]
  },
  {
   "cell_type": "code",
   "execution_count": 10,
   "metadata": {},
   "outputs": [
    {
     "data": {
      "image/png": "[encoded data removed]",
      "text/plain": [
       "<Figure size 432x288 with 1 Axes>"
      ]
     },
     "metadata": {
      "needs_background": "light"
     },
     "output_type": "display_data"
    }
   ],
   "source": [
    "plt.plot(X[:,1],y,\".\",\n",
    "        X[:,1],ynn,)\n",
    "plt.show()"
   ]
  },
  {
   "cell_type": "code",
   "execution_count": 11,
   "metadata": {},
   "outputs": [],
   "source": [
    "def g(x):\n",
    "    a=1+np.exp(-x)\n",
    "    return 1/a"
   ]
  },
  {
   "cell_type": "code",
   "execution_count": 12,
   "metadata": {
    "scrolled": true
   },
   "outputs": [
    {
     "data": {
      "text/plain": [
       "array([0.78409437, 0.78404465, 0.77830514, 0.77653059, 0.7756213 ,\n",
       "       0.77424236, 0.76651863, 0.76359117, 0.76315961, 0.76115655,\n",
       "       0.7597274 , 0.7553488 , 0.75315845, 0.74972406, 0.74837394,\n",
       "       0.74629348, 0.74619682, 0.73993949, 0.73186452, 0.73178269,\n",
       "       0.72993255, 0.72885613, 0.72510415, 0.72086647, 0.71984165,\n",
       "       0.71799942, 0.71017828, 0.70896737, 0.69966753, 0.69825016,\n",
       "       0.6958268 , 0.69244041, 0.69238724, 0.69151482, 0.68624321,\n",
       "       0.68201758, 0.67890454, 0.67780748, 0.6628696 , 0.66012794,\n",
       "       0.65536376, 0.65016164, 0.64874566, 0.64767202, 0.63804405,\n",
       "       0.63581957, 0.63473356, 0.63041   , 0.62424775, 0.62233564,\n",
       "       0.61685649, 0.61635117, 0.61585552, 0.6153485 , 0.6140557 ,\n",
       "       0.61362017, 0.60918798, 0.595987  , 0.59456109, 0.59355997,\n",
       "       0.59279407, 0.59099871, 0.58018521, 0.57053688, 0.57041864,\n",
       "       0.56761262, 0.56636151, 0.56043566, 0.55340201, 0.54782453,\n",
       "       0.54504379, 0.54080731, 0.53995655, 0.53949793, 0.53895379,\n",
       "       0.53732094, 0.53732063, 0.53436762, 0.5227857 , 0.52262991,\n",
       "       0.51950817, 0.5189218 , 0.51670676, 0.51576986, 0.51570981,\n",
       "       0.51128484, 0.50839601, 0.50412479, 0.5039653 , 0.50197283,\n",
       "       0.49818516, 0.49793451, 0.49541059, 0.48373306, 0.48327261,\n",
       "       0.47735263, 0.47211557, 0.4685755 , 0.46770361, 0.46474575])"
      ]
     },
     "execution_count": 12,
     "metadata": {},
     "output_type": "execute_result"
    }
   ],
   "source": [
    "ynnn=np.array([])\n",
    "for i in range(X.shape[0]):\n",
    "    ynnn=np.append(ynnn,g(h(teta,X[i,:])))\n",
    "    \n",
    "ynnn\n",
    "    #np.shape(X)"
   ]
  },
  {
   "cell_type": "code",
   "execution_count": null,
   "metadata": {},
   "outputs": [],
   "source": []
  },
  {
   "cell_type": "code",
   "execution_count": 13,
   "metadata": {
    "scrolled": true
   },
   "outputs": [
    {
     "data": {
      "image/png": "[encoded data removed]",
      "text/plain": [
       "<Figure size 432x288 with 1 Axes>"
      ]
     },
     "metadata": {
      "needs_background": "light"
     },
     "output_type": "display_data"
    }
   ],
   "source": [
    "plt.plot(X[:,1],y,\".\",\n",
    "        X[:,1],ynn,'r',\n",
    "        X[:,1],ynnn,'g')\n",
    "plt.show()"
   ]
  },
  {
   "cell_type": "markdown",
   "metadata": {},
   "source": [
    "gen ce e cu verde, linea logistica iti spune probabilitatea $P(y=1|x,\\theta)$ si evident si $P(y=0|x,\\theta)$ ca un $x$ sa fie intr-una din categori"
   ]
  },
  {
   "cell_type": "code",
   "execution_count": 14,
   "metadata": {},
   "outputs": [],
   "source": [
    "Y=ynnn\n",
    "Y[Y<0.5]=0\n",
    "Y[Y>0.5]=1"
   ]
  },
  {
   "cell_type": "code",
   "execution_count": 15,
   "metadata": {},
   "outputs": [
    {
     "data": {
      "image/png": "[encoded data removed]",
      "text/plain": [
       "<Figure size 432x288 with 1 Axes>"
      ]
     },
     "metadata": {
      "needs_background": "light"
     },
     "output_type": "display_data"
    }
   ],
   "source": [
    "plt.plot(X[:,1],y,\".\",\n",
    "        X[:,1],ynn,'r',\n",
    "        X[:,1],ynnn,'g',\n",
    "        X[:,1],Y,'g')\n",
    "plt.show()"
   ]
  },
  {
   "cell_type": "code",
   "execution_count": null,
   "metadata": {},
   "outputs": [],
   "source": []
  }
 ],
 "metadata": {
  "kernelspec": {
   "display_name": "Python 3",
   "language": "python",
   "name": "python3"
  },
  "language_info": {
   "codemirror_mode": {
    "name": "ipython",
    "version": 3
   },
   "file_extension": ".py",
   "mimetype": "text/x-python",
   "name": "python",
   "nbconvert_exporter": "python",
   "pygments_lexer": "ipython3",
   "version": "3.7.3"
  }
 },
 "nbformat": 4,
 "nbformat_minor": 2
}

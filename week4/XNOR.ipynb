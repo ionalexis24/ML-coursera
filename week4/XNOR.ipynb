{
 "cells": [
  {
   "cell_type": "markdown",
   "metadata": {},
   "source": [
    "Retea neuronala pentru $y= x_1 \\text{XNOR} x_2$ "
   ]
  },
  {
   "cell_type": "code",
   "execution_count": 1,
   "metadata": {},
   "outputs": [],
   "source": [
    "import numpy as np\n",
    "def g(z):\n",
    "    a=(1+np.exp(-z))\n",
    "    return 1/a"
   ]
  },
  {
   "cell_type": "code",
   "execution_count": 2,
   "metadata": {},
   "outputs": [],
   "source": [
    "def ANDD(x1,x2):\n",
    "    x=np.array([1, x1, x2])\n",
    "    x=x.reshape(-1, 1)\n",
    "    teta=np.array([-30, 20, 20])\n",
    "    return int(g(teta.dot(x))>0.5)"
   ]
  },
  {
   "cell_type": "code",
   "execution_count": 3,
   "metadata": {},
   "outputs": [],
   "source": [
    "def NAN(x1,x2):\n",
    "    x=np.array([1, x1, x2])\n",
    "    x=x.reshape(-1, 1)\n",
    "    teta=np.array([10, -20, -20])\n",
    "    return int(g(teta.dot(x))>0.5)"
   ]
  },
  {
   "cell_type": "code",
   "execution_count": 4,
   "metadata": {},
   "outputs": [],
   "source": [
    "def ORR(x1,x2):\n",
    "    x=np.array([1, x1, x2])\n",
    "    x=x.reshape(-1, 1)\n",
    "    teta=np.array([-10, 20, 20])\n",
    "    return int(g(teta.dot(x))>0.5)"
   ]
  },
  {
   "cell_type": "code",
   "execution_count": 5,
   "metadata": {},
   "outputs": [
    {
     "name": "stdout",
     "output_type": "stream",
     "text": [
      "0 0 1\n",
      "0 1 0\n",
      "1 0 0\n",
      "1 1 1\n"
     ]
    }
   ],
   "source": [
    "for x1 in range(2):\n",
    "    for x2 in range(2):\n",
    "        print(x1, x2, ORR(ANDD(x1,x2),NAN(x1,x2)))"
   ]
  },
  {
   "cell_type": "code",
   "execution_count": 17,
   "metadata": {},
   "outputs": [
    {
     "data": {
      "text/plain": [
       "array([array([[-30,  20,  20],\n",
       "       [ 10, -20, -20]]),\n",
       "       array([-10,  20,  20])], dtype=object)"
      ]
     },
     "execution_count": 17,
     "metadata": {},
     "output_type": "execute_result"
    }
   ],
   "source": [
    "teta=np.array([np.array([[-30, 20, 20],[10, -20, -20]]),np.array([-10, 20, 20])])\n",
    "\n",
    "teta"
   ]
  },
  {
   "cell_type": "code",
   "execution_count": 21,
   "metadata": {},
   "outputs": [
    {
     "name": "stdout",
     "output_type": "stream",
     "text": [
      "[[-30  20  20]\n",
      " [ 10 -20 -20]]\n"
     ]
    }
   ],
   "source": [
    "print(teta[0])  #teta[0] e matricea de greutati de pe primul layer"
   ]
  },
  {
   "cell_type": "code",
   "execution_count": 74,
   "metadata": {},
   "outputs": [
    {
     "data": {
      "text/plain": [
       "0.9999545608951235"
      ]
     },
     "execution_count": 74,
     "metadata": {},
     "output_type": "execute_result"
    }
   ],
   "source": [
    "x1=0\n",
    "x2=0\n",
    "x=np.array([])\n",
    "a=np.array([])\n",
    "teta=np.array([])\n",
    "\n",
    "x=np.array([1,x1,x2])\n",
    "\n",
    "teta1=np.array([[-30, 20, 20],[10, -20, -20]])\n",
    "teta2=np.array([-10, 20, 20])\n",
    "teta[1]=\n",
    "teta=np.array([teta1,teta2])\n",
    "z2=teta[0].dot(x)\n",
    "a2=g(z2)\n",
    "a2=np.hstack((np.array([1]),a2))   #fa asta intr-o functie si fa for pe layer si for in layer\n",
    "z3=teta[1].dot(a2)\n",
    "a3=g(z3)\n",
    "a3"
   ]
  },
  {
   "cell_type": "code",
   "execution_count": null,
   "metadata": {},
   "outputs": [],
   "source": []
  }
 ],
 "metadata": {
  "kernelspec": {
   "display_name": "Python 3",
   "language": "python",
   "name": "python3"
  },
  "language_info": {
   "codemirror_mode": {
    "name": "ipython",
    "version": 3
   },
   "file_extension": ".py",
   "mimetype": "text/x-python",
   "name": "python",
   "nbconvert_exporter": "python",
   "pygments_lexer": "ipython3",
   "version": "3.7.3"
  }
 },
 "nbformat": 4,
 "nbformat_minor": 2
}

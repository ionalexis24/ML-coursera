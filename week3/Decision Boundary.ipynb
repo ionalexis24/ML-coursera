{
 "cells": [
  {
   "cell_type": "code",
   "execution_count": 1,
   "metadata": {},
   "outputs": [],
   "source": [
    "import numpy as np\n",
    "import matplotlib.pyplot as plt"
   ]
  },
  {
   "cell_type": "code",
   "execution_count": 118,
   "metadata": {
    "scrolled": true
   },
   "outputs": [
    {
     "data": {
      "text/plain": [
       "array([[-1.00208706,  3.87991187],\n",
       "       [ 0.76681558,  3.94172405],\n",
       "       [-0.54451095,  6.85436455],\n",
       "       [-0.74283949,  4.75873875],\n",
       "       [-0.35367456,  5.23969952],\n",
       "       [ 0.29759752,  4.62436035],\n",
       "       [-0.70273894,  5.01200353],\n",
       "       [-0.68595916,  3.30101807],\n",
       "       [ 0.17684278,  7.20791128],\n",
       "       [-0.00837463,  5.13097047],\n",
       "       [-0.40040124,  5.70788827],\n",
       "       [-0.34538341,  4.66576637],\n",
       "       [ 0.51283359,  7.13455551],\n",
       "       [ 0.01063329,  7.52559549],\n",
       "       [ 1.09882653,  3.3961116 ],\n",
       "       [-0.67907174,  5.06830895],\n",
       "       [-0.86816952,  5.0292238 ],\n",
       "       [ 0.86493873,  4.55044205],\n",
       "       [-0.06523317,  3.8903003 ],\n",
       "       [-0.04213245,  3.667222  ],\n",
       "       [ 1.08883484,  5.62593309],\n",
       "       [ 0.04678019,  5.88556249],\n",
       "       [-0.36107747,  4.78414595],\n",
       "       [-1.03452734,  6.65490137],\n",
       "       [ 2.25524171,  4.41945866],\n",
       "       [ 0.58104377,  5.11028881],\n",
       "       [-0.086779  ,  6.05631544],\n",
       "       [ 1.42222062,  4.9476491 ],\n",
       "       [ 1.11461375,  5.8018086 ],\n",
       "       [ 0.44052308,  6.09233682],\n",
       "       [-0.56428643,  4.55649916],\n",
       "       [ 1.40202316,  3.72984563],\n",
       "       [ 0.38812319,  5.93492245],\n",
       "       [-0.0898477 ,  6.78149125],\n",
       "       [ 0.61739373,  5.15617029],\n",
       "       [ 1.47860838,  6.14971249],\n",
       "       [ 0.33347876,  3.92018712],\n",
       "       [-0.22850664,  5.2566353 ],\n",
       "       [-0.60880198,  6.11781883],\n",
       "       [-1.43079108,  4.07566713],\n",
       "       [ 1.19039701,  4.37764439],\n",
       "       [ 0.95474145,  5.0998434 ],\n",
       "       [ 1.59799699,  4.93286147],\n",
       "       [-0.56203873,  5.84255458],\n",
       "       [ 0.90818339,  5.47114524],\n",
       "       [-0.95869668,  3.27415975],\n",
       "       [ 2.54240283,  3.40129389],\n",
       "       [ 1.31271028,  4.86937477],\n",
       "       [ 2.77545807,  5.42238132],\n",
       "       [-1.14139327,  2.94344075],\n",
       "       [ 0.17223568,  5.4726361 ],\n",
       "       [-1.61480595,  5.28267679],\n",
       "       [-0.82856607,  4.64318999],\n",
       "       [ 1.16884078,  4.25172619],\n",
       "       [ 0.5884515 ,  5.7137232 ],\n",
       "       [-1.1650302 ,  4.05962484],\n",
       "       [-0.23696967,  3.8908485 ],\n",
       "       [ 0.09498035,  5.10675402],\n",
       "       [-1.44558692,  3.71575795],\n",
       "       [ 0.31786738,  4.4018123 ],\n",
       "       [-1.25117354,  6.25537693],\n",
       "       [-1.26900426,  4.98020799],\n",
       "       [ 0.99695289,  6.87572144],\n",
       "       [ 0.05669777,  4.08082362],\n",
       "       [ 0.3866467 ,  5.53530697],\n",
       "       [ 0.0385457 ,  4.94751035],\n",
       "       [ 0.48004487,  5.70181445],\n",
       "       [ 0.09429971,  5.74124205],\n",
       "       [-1.48621714,  3.82366468],\n",
       "       [-1.85841396,  4.72030253],\n",
       "       [-0.49496847,  3.1789183 ],\n",
       "       [ 0.24012777,  5.52788162],\n",
       "       [-0.09754332,  7.95347511],\n",
       "       [ 1.38562703,  5.72403942],\n",
       "       [-0.60114372,  5.9236565 ],\n",
       "       [-0.64734159,  4.80840799],\n",
       "       [ 0.39388972,  3.07834504],\n",
       "       [ 1.63425219,  5.08600789],\n",
       "       [ 0.02675271,  6.05747947],\n",
       "       [ 0.17594401,  5.80554196],\n",
       "       [-0.8476031 ,  3.83862163],\n",
       "       [ 0.98335349,  5.71977532],\n",
       "       [ 1.35300561,  4.51053815],\n",
       "       [-0.21564637,  2.33159378],\n",
       "       [ 0.68037981,  6.03612293],\n",
       "       [ 0.00799841,  5.64426995],\n",
       "       [ 1.19357189,  4.80032906],\n",
       "       [-0.45310771,  5.30939901],\n",
       "       [ 0.72630709,  6.23836639],\n",
       "       [ 0.52272228,  6.61759914],\n",
       "       [ 1.83129691,  6.63097101],\n",
       "       [-1.13398942,  6.59148941],\n",
       "       [-1.79944003,  5.42182618],\n",
       "       [-0.37803048,  6.43203583],\n",
       "       [-0.45652706,  5.21704793],\n",
       "       [ 1.39383549,  4.29315368],\n",
       "       [ 1.11241417,  6.18532449],\n",
       "       [-1.0863978 ,  7.4738476 ],\n",
       "       [-1.62711024,  2.98388575],\n",
       "       [ 0.78971988,  4.60020986],\n",
       "       [ 4.6850606 ,  0.74230527],\n",
       "       [ 5.32301107,  3.04354412],\n",
       "       [ 5.47814263,  0.14016509],\n",
       "       [ 4.71314278,  0.9488272 ],\n",
       "       [ 5.45097862,  0.56749392],\n",
       "       [ 5.49409829,  2.03074702],\n",
       "       [ 5.96809221,  0.58872977],\n",
       "       [ 5.0739756 , -0.76189538],\n",
       "       [ 5.7211421 , -0.02072135],\n",
       "       [ 5.20182808,  0.65943913],\n",
       "       [ 5.17380059,  2.47422354],\n",
       "       [ 4.71146891,  0.65693738],\n",
       "       [ 5.4226319 ,  1.35592104],\n",
       "       [ 4.63339225,  1.78889336],\n",
       "       [ 4.59397166,  1.75989877],\n",
       "       [ 5.04700417,  0.74629838],\n",
       "       [ 4.86130735,  1.31095602],\n",
       "       [ 4.90066333,  1.54158609],\n",
       "       [ 4.81849156,  1.86557989],\n",
       "       [ 5.45388978,  2.41204735],\n",
       "       [ 5.56047494,  1.93943877],\n",
       "       [ 5.47226304,  1.63671344],\n",
       "       [ 4.51374809,  0.13919146],\n",
       "       [ 4.93174392,  1.32208207],\n",
       "       [ 4.71285358,  0.34582243],\n",
       "       [ 5.73700286,  0.38472834],\n",
       "       [ 5.07840192,  0.50400186],\n",
       "       [ 4.59673539,  1.17352844],\n",
       "       [ 5.62827315,  0.93374251],\n",
       "       [ 5.2084474 ,  2.21234567],\n",
       "       [ 5.38412119,  1.85011449],\n",
       "       [ 4.70627398,  0.22007961],\n",
       "       [ 4.78728921,  0.4671125 ],\n",
       "       [ 4.0802963 ,  0.87856794],\n",
       "       [ 5.61776261,  0.31501243],\n",
       "       [ 4.54081117,  1.14269668],\n",
       "       [ 4.89367679, -0.42393206],\n",
       "       [ 4.438547  , -0.37331967],\n",
       "       [ 4.94360741,  0.92743886],\n",
       "       [ 4.78356397,  1.07697296],\n",
       "       [ 4.87313664, -0.29279052],\n",
       "       [ 5.30004219,  2.33553039],\n",
       "       [ 4.92559029,  1.46640007],\n",
       "       [ 4.32466489,  0.64236512],\n",
       "       [ 5.54378975,  0.88712592],\n",
       "       [ 5.40312926,  1.36279742],\n",
       "       [ 5.36944636,  2.50202473],\n",
       "       [ 4.93234436,  0.63990495],\n",
       "       [ 6.05734602,  2.67033263],\n",
       "       [ 4.74862733,  0.80564595],\n",
       "       [ 5.35513095,  0.73018996],\n",
       "       [ 4.67484996,  0.08500876],\n",
       "       [ 5.27362349,  1.2147274 ],\n",
       "       [ 4.72396987, -1.22358067],\n",
       "       [ 4.99986566,  1.68247279],\n",
       "       [ 5.36517272,  0.95513595],\n",
       "       [ 5.30119813,  1.59665288],\n",
       "       [ 4.4359683 ,  2.42198282],\n",
       "       [ 5.12651183,  2.32204332],\n",
       "       [ 4.81488328,  1.76621353],\n",
       "       [ 4.52791782,  1.39936623],\n",
       "       [ 4.32986508,  0.82015572],\n",
       "       [ 5.49650458,  1.03185678],\n",
       "       [ 4.45689319,  0.7655631 ],\n",
       "       [ 4.8779944 ,  2.61428816],\n",
       "       [ 4.84450615,  0.73737924],\n",
       "       [ 4.54534079,  0.44517125],\n",
       "       [ 4.18105554,  0.83734842],\n",
       "       [ 4.63741488,  0.4390922 ],\n",
       "       [ 5.000738  ,  1.84009295],\n",
       "       [ 4.80626208, -0.1031683 ],\n",
       "       [ 4.64743881,  1.20011414],\n",
       "       [ 5.3453477 , -0.07390925],\n",
       "       [ 4.90062288,  0.67377948],\n",
       "       [ 4.23542944,  1.66860019],\n",
       "       [ 4.5900416 ,  0.54079766],\n",
       "       [ 4.9976212 ,  2.26938265],\n",
       "       [ 4.23481406,  2.12296736],\n",
       "       [ 5.16804171, -1.3053938 ],\n",
       "       [ 5.45607424,  1.91402082],\n",
       "       [ 5.5728778 ,  1.48814285],\n",
       "       [ 4.62521401,  0.08178045],\n",
       "       [ 5.62739102,  1.68225095],\n",
       "       [ 4.46913481,  1.79598446],\n",
       "       [ 4.70501032,  2.10390388],\n",
       "       [ 5.58107457,  0.15106072],\n",
       "       [ 5.37331581,  2.34463372],\n",
       "       [ 5.66993417,  3.19691691],\n",
       "       [ 4.98334134,  1.87398239],\n",
       "       [ 4.3965251 ,  1.21071191],\n",
       "       [ 4.21151057,  1.69946162],\n",
       "       [ 5.06996007,  1.83609702],\n",
       "       [ 5.16081382, -0.87558126],\n",
       "       [ 4.69725404,  0.15475519],\n",
       "       [ 5.61809907,  1.51842996],\n",
       "       [ 5.33728668, -1.27672586],\n",
       "       [ 4.94554734,  0.58984699],\n",
       "       [ 4.63781178,  1.62078238],\n",
       "       [ 4.521418  ,  1.98828248],\n",
       "       [ 4.48677179,  0.76959549]])"
      ]
     },
     "execution_count": 118,
     "metadata": {},
     "output_type": "execute_result"
    }
   ],
   "source": [
    "a1=np.random.randn(100,1)\n",
    "a2=np.random.randn(100,1)+5\n",
    "a=np.hstack((a1,a2))\n",
    "b1=0.5*np.random.randn(100,1)+5\n",
    "b2=np.random.randn(100,1)+1\n",
    "b=np.hstack((b1,b2))\n",
    "x=np.vstack((a,b))\n",
    "x"
   ]
  },
  {
   "cell_type": "code",
   "execution_count": 119,
   "metadata": {
    "scrolled": true
   },
   "outputs": [],
   "source": [
    "x=np.random.permutation(x)"
   ]
  },
  {
   "cell_type": "code",
   "execution_count": 121,
   "metadata": {},
   "outputs": [
    {
     "data": {
      "image/png": "[encoded data removed]",
      "text/plain": [
       "<Figure size 432x288 with 1 Axes>"
      ]
     },
     "metadata": {
      "needs_background": "light"
     },
     "output_type": "display_data"
    }
   ],
   "source": [
    "plt.plot(x[:,0],x[:,1],\"r.\")\n",
    "\n",
    "plt.show()"
   ]
  },
  {
   "cell_type": "code",
   "execution_count": 122,
   "metadata": {
    "scrolled": true
   },
   "outputs": [
    {
     "data": {
      "text/plain": [
       "array([[0.45284619, 2.80266229],\n",
       "       [2.78135461, 0.1824137 ],\n",
       "       [0.19059612, 0.42543191],\n",
       "       ...,\n",
       "       [4.25313465, 0.96965189],\n",
       "       [3.85892338, 2.18181564],\n",
       "       [0.76255237, 0.56006166]])"
      ]
     },
     "execution_count": 122,
     "metadata": {},
     "output_type": "execute_result"
    }
   ],
   "source": [
    "X=5*np.random.random((1000,2))\n",
    "X"
   ]
  },
  {
   "cell_type": "code",
   "execution_count": 123,
   "metadata": {},
   "outputs": [],
   "source": [
    "y=np.copy(X)"
   ]
  },
  {
   "cell_type": "code",
   "execution_count": 124,
   "metadata": {},
   "outputs": [
    {
     "data": {
      "text/plain": [
       "(674, 2)"
      ]
     },
     "execution_count": 124,
     "metadata": {},
     "output_type": "execute_result"
    }
   ],
   "source": [
    "X[X[:,0]+X[:,1]>=4].shape"
   ]
  },
  {
   "cell_type": "code",
   "execution_count": 125,
   "metadata": {},
   "outputs": [],
   "source": [
    "r=X[X[:,0]+X[:,1]>=4]+np.random.randn( X[X[:,0]+X[:,1]>=4].shape[0], X[X[:,0]+X[:,1]>=4].shape[1] )\n",
    "b=X[X[:,0]+X[:,1]<=4]+np.random.randn( X[X[:,0]+X[:,1]<=4].shape[0], X[X[:,0]+X[:,1]>=4].shape[1] )"
   ]
  },
  {
   "cell_type": "code",
   "execution_count": 126,
   "metadata": {},
   "outputs": [
    {
     "data": {
      "image/png": "[encoded data removed]",
      "text/plain": [
       "<Figure size 432x288 with 1 Axes>"
      ]
     },
     "metadata": {
      "needs_background": "light"
     },
     "output_type": "display_data"
    }
   ],
   "source": [
    "plt.plot(X[X[:,0]+X[:,1]>=4][:,0],X[X[:,0]+X[:,1]>=4][:,1],\"r.\",\n",
    "        X[X[:,0]+X[:,1]<4][:,0],X[X[:,0]+X[:,1]<4][:,1],\"b.\",  )\n",
    "plt.show()"
   ]
  },
  {
   "cell_type": "code",
   "execution_count": null,
   "metadata": {},
   "outputs": [],
   "source": []
  }
 ],
 "metadata": {
  "kernelspec": {
   "display_name": "Python 3",
   "language": "python",
   "name": "python3"
  },
  "language_info": {
   "codemirror_mode": {
    "name": "ipython",
    "version": 3
   },
   "file_extension": ".py",
   "mimetype": "text/x-python",
   "name": "python",
   "nbconvert_exporter": "python",
   "pygments_lexer": "ipython3",
   "version": "3.7.3"
  }
 },
 "nbformat": 4,
 "nbformat_minor": 2
}
